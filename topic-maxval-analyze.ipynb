{
 "cells": [
  {
   "cell_type": "markdown",
   "metadata": {},
   "source": [
    "# トピック分析\n"
   ]
  },
  {
   "cell_type": "code",
   "execution_count": 1,
   "metadata": {},
   "outputs": [],
   "source": [
    "import os\n",
    "import nltk\n",
    "import pickle\n",
    "\n",
    "import pandas as pd\n",
    "import numpy as np\n",
    "import seaborn as sns\n",
    "import matplotlib.pyplot as plt\n",
    "\n",
    "from pprint import pprint\n",
    "from tqdm import tqdm\n",
    "from pyvis.network import Network\n",
    "from book import *\n",
    "from gensim.corpora.dictionary import Dictionary\n",
    "from gensim.models import LdaModel\n",
    "from gensim.models.ldamodel import CoherenceModel\n",
    "from labMTsimple.storyLab import *\n",
    "from nltk.corpus import stopwords\n",
    "from igraph import *\n",
    "from scipy.cluster.hierarchy import dendrogram, linkage, fcluster\n",
    "from collections import defaultdict\n"
   ]
  },
  {
   "cell_type": "code",
   "execution_count": 2,
   "metadata": {},
   "outputs": [
    {
     "name": "stderr",
     "output_type": "stream",
     "text": [
      "[nltk_data] Downloading package stopwords to\n",
      "[nltk_data]     C:\\Users\\tomoya\\AppData\\Roaming\\nltk_data...\n",
      "[nltk_data]   Package stopwords is already up-to-date!\n"
     ]
    },
    {
     "data": {
      "text/plain": [
       "True"
      ]
     },
     "execution_count": 2,
     "metadata": {},
     "output_type": "execute_result"
    }
   ],
   "source": [
    "nltk.download('stopwords')\n"
   ]
  },
  {
   "cell_type": "code",
   "execution_count": 3,
   "metadata": {},
   "outputs": [],
   "source": [
    "DATA = 'data/'\n",
    "DIST = 'dist/max/'\n",
    "TMP = 'tmp/max/'\n",
    "TEXT = 'text/'\n",
    "PICKLE = 'pickle/'\n",
    "MODEL = 'model/'\n",
    "\n",
    "SRC = 'sources.txt'\n",
    "TEST = 'sources-test.txt'\n",
    "MIN_TEXT = 'texts-max.txt'\n",
    "\n",
    "FILTER_TOKENS = ['\\'', 'mrs', 'mr']\n",
    "NUM_TOPICS = 16\n",
    "NO_BELOW = 3\n",
    "NO_ABOVE = 0.7\n"
   ]
  },
  {
   "cell_type": "code",
   "execution_count": 4,
   "metadata": {},
   "outputs": [],
   "source": [
    "sns.set(style='darkgrid')\n"
   ]
  },
  {
   "cell_type": "code",
   "execution_count": 5,
   "metadata": {},
   "outputs": [],
   "source": [
    "labMT, labMTvector, labMTwordlist = emotionFileReader(returnVector=True)\n"
   ]
  },
  {
   "cell_type": "code",
   "execution_count": 6,
   "metadata": {},
   "outputs": [],
   "source": [
    "def get_pairs(array):\n",
    "    pairs = []\n",
    "    for i, v1 in enumerate(array):\n",
    "        for j, v2 in enumerate(array):\n",
    "            if i != j:\n",
    "                pairs.append((v1, v2))\n",
    "    return pairs\n"
   ]
  },
  {
   "cell_type": "code",
   "execution_count": 7,
   "metadata": {},
   "outputs": [],
   "source": [
    "def load_array(file, delim=None, cnt=None):\n",
    "    with open(file, 'r', encoding=\"utf-8\") as f:\n",
    "        if cnt:\n",
    "            array = [[elem.strip() for elem in line.split(delim, cnt)]\n",
    "                      for line in f.readlines()]\n",
    "        else:\n",
    "            array =  [[elem.strip() for elem in line.split(delim)]\n",
    "                    for line in f.readlines()]\n",
    "    return array\n",
    "\n",
    "\n",
    "def fprint_array(file_name, array):\n",
    "    with open(file_name, 'w', encoding=\"utf-8\") as f:\n",
    "        for vector in array:\n",
    "            for elem in vector:\n",
    "                f.write('{:10} '.format(elem))\n",
    "            f.write('\\n')\n"
   ]
  },
  {
   "cell_type": "code",
   "execution_count": 8,
   "metadata": {},
   "outputs": [
    {
     "name": "stdout",
     "output_type": "stream",
     "text": [
      "[['12', '12-cleaned.txt', 'Through the Looking-Glass'],\n",
      " ['16', '16-cleaned.txt', 'Peter Pan'],\n",
      " ['20', '20-cleaned.txt', 'Paradise Lost'],\n",
      " ['21', '21-cleaned.txt', 'Aesop’s Fables'],\n",
      " ['24', '24-cleaned.txt', 'O Pioneers!'],\n",
      " ['32', '32-cleaned.txt', 'Herland'],\n",
      " ['36', '36-cleaned.txt', 'The War of the Worlds'],\n",
      " ['41', '41-cleaned.txt', 'The Legend of Sleepy Hollow'],\n",
      " ['47', '47-cleaned.txt', 'Anne Of Avonlea'],\n",
      " ['51', '51-cleaned.txt', 'Anne Of The Island']]\n"
     ]
    }
   ],
   "source": [
    "infos = load_array(DATA + SRC, ',', 2)\n",
    "pprint(infos[:10])\n"
   ]
  },
  {
   "cell_type": "code",
   "execution_count": 9,
   "metadata": {},
   "outputs": [],
   "source": [
    "def calc_happiness(window):\n",
    "    return emotion(window, labMT)\n"
   ]
  },
  {
   "cell_type": "code",
   "execution_count": 10,
   "metadata": {},
   "outputs": [
    {
     "name": "stderr",
     "output_type": "stream",
     "text": [
      "100%|██████████████████████████████████████████████████████████████████████████████████████████████████████████████████████████████████████████████████| 1244/1244 [23:22<00:00,  1.13s/it]\n"
     ]
    }
   ],
   "source": [
    "books = {}\n",
    "for book_id, file_name, title in tqdm(infos):\n",
    "    FILE = TMP + PICKLE + '{}.pickle'.format(book_id)\n",
    "    book = Book(book_id, title, file_name)\n",
    "    if not os.path.exists(FILE):\n",
    "        try:\n",
    "            book.load()\n",
    "            book.windowed()\n",
    "            book.calc_happiness(calc_happiness)\n",
    "            books[int(book_id)] = book\n",
    "            with open(FILE, 'wb') as f:\n",
    "                pickle.dump(book, f)\n",
    "        except BookLoadingException as err:\n",
    "            pass\n",
    "    else:\n",
    "        with open(FILE, 'rb') as f:\n",
    "            books[int(book_id)] = pickle.load(f)\n"
   ]
  },
  {
   "cell_type": "code",
   "execution_count": 11,
   "metadata": {},
   "outputs": [
    {
     "name": "stdout",
     "output_type": "stream",
     "text": [
      "1149\n"
     ]
    }
   ],
   "source": [
    "print(len(books))\n"
   ]
  },
  {
   "cell_type": "code",
   "execution_count": 12,
   "metadata": {},
   "outputs": [],
   "source": [
    "def get_max_window(book):\n",
    "    happinesses = book.happinesses()\n",
    "    i = happinesses.index(max(happinesses))\n",
    "    local_array = []\n",
    "    local_array.append(i)\n",
    "    for word in book.windows()[i].split():\n",
    "        local_array.append(word)\n",
    "    return local_array\n"
   ]
  },
  {
   "cell_type": "code",
   "execution_count": 13,
   "metadata": {},
   "outputs": [],
   "source": [
    "MIN_TEXT_PATH = TMP + MIN_TEXT\n",
    "if not os.path.exists(MIN_TEXT_PATH):\n",
    "    min_windows = [get_max_window(books[book_id]) for book_id in books]\n",
    "    fprint_array(MIN_TEXT_PATH, min_windows)\n",
    "else:\n",
    "    min_windows = load_array(MIN_TEXT_PATH)\n",
    "min_windows = [array[1:] for array in min_windows]\n"
   ]
  },
  {
   "cell_type": "code",
   "execution_count": 14,
   "metadata": {},
   "outputs": [
    {
     "name": "stdout",
     "output_type": "stream",
     "text": [
      "1149\n",
      "10000\n"
     ]
    }
   ],
   "source": [
    "print(len(min_windows))\n",
    "print(len(min_windows[0]))\n"
   ]
  },
  {
   "cell_type": "markdown",
   "metadata": {},
   "source": [
    "## モデルの構築\n"
   ]
  },
  {
   "cell_type": "code",
   "execution_count": 15,
   "metadata": {},
   "outputs": [],
   "source": [
    "stopset = set(stopwords.words('english'))\n"
   ]
  },
  {
   "cell_type": "code",
   "execution_count": 16,
   "metadata": {},
   "outputs": [],
   "source": [
    "def get_stop_words(dic):\n",
    "    return [dic[word] for word in dic if len(word) < 3 or word in stopset or \n",
    "            word not in labMT]\n"
   ]
  },
  {
   "cell_type": "code",
   "execution_count": 17,
   "metadata": {},
   "outputs": [],
   "source": [
    "DICTIONARY_PATH = TMP + 'dictionary.dict'\n",
    "if os.path.exists(DICTIONARY_PATH):\n",
    "    dictionary = Dictionary.load(DICTIONARY_PATH)\n",
    "else:\n",
    "    dictionary = Dictionary(min_windows)\n",
    "    dictionary.filter_extremes(no_below=NO_BELOW, no_above=NO_ABOVE)\n",
    "    dictionary.filter_tokens(bad_ids=get_stop_words(dictionary.token2id))\n",
    "    dictionary.save(DICTIONARY_PATH)\n"
   ]
  },
  {
   "cell_type": "code",
   "execution_count": 18,
   "metadata": {},
   "outputs": [],
   "source": [
    "corpus = [dictionary.doc2bow(text) for text in min_windows]\n"
   ]
  },
  {
   "cell_type": "code",
   "execution_count": 19,
   "metadata": {},
   "outputs": [
    {
     "name": "stderr",
     "output_type": "stream",
     "text": [
      "100%|██████████████████████████████████████████████████████████████████████████████████████████████████████████████████████████████████████████████████████| 14/14 [00:47<00:00,  3.39s/it]\n"
     ]
    }
   ],
   "source": [
    "MODEL_FOLDER = TMP + MODEL\n",
    "if not os.path.exists(MODEL_FOLDER):\n",
    "    os.makedirs(MODEL_FOLDER)\n",
    "\n",
    "models = {}\n",
    "\n",
    "for topic_num in tqdm(range(2, NUM_TOPICS)):\n",
    "    MODEL_PATH = MODEL_FOLDER + 'topic-{}.model'.format(topic_num)\n",
    "    if not os.path.exists(MODEL_PATH):\n",
    "        lda_model = LdaModel(corpus=corpus, num_topics=topic_num, id2word=dictionary)\n",
    "        lda_model.save(MODEL_PATH)\n",
    "    else:\n",
    "        lda_model = LdaModel.load(MODEL_PATH)\n",
    "    models[topic_num] = lda_model\n"
   ]
  },
  {
   "cell_type": "markdown",
   "metadata": {},
   "source": [
    "## テストデータで分析\n"
   ]
  },
  {
   "cell_type": "code",
   "execution_count": 20,
   "metadata": {},
   "outputs": [
    {
     "name": "stdout",
     "output_type": "stream",
     "text": [
      "[['37332', '37332-cleaned.txt', 'A Little Princess'],\n",
      " ['43', '43-cleaned.txt', 'The Strange Case Of Dr. Jekyll And Mr. Hyde'],\n",
      " ['11', '11-cleaned.txt', \"Alice's Adventures in Wonderland\"],\n",
      " ['98', '98-cleaned.txt', 'A Tale of Two Cities'],\n",
      " ['1974', '1974-cleaned.txt', 'Poetics'],\n",
      " ['45', '45-cleaned.txt', 'Anne of Green Gables'],\n",
      " ['119', '119-cleaned.txt', 'A Tramp Abroad'],\n",
      " ['205', '205-cleaned.txt', 'Walden, and On The Duty Of Civil Disobedience'],\n",
      " ['752', '752-cleaned.txt', 'A Young Girl’s Diary'],\n",
      " ['901', '901-cleaned.txt', 'The Jew of Malta']]\n"
     ]
    }
   ],
   "source": [
    "TEST_PATH = DATA + TEST\n",
    "test_infos = load_array(TEST_PATH, ',', 2)\n",
    "pprint(test_infos[:10])\n"
   ]
  },
  {
   "cell_type": "code",
   "execution_count": 21,
   "metadata": {},
   "outputs": [
    {
     "name": "stderr",
     "output_type": "stream",
     "text": [
      "100%|██████████████████████████████████████████████████████████████████████████████████████████████████████████████████████████████████████████████████████| 15/15 [00:15<00:00,  1.03s/it]\n"
     ]
    },
    {
     "name": "stdout",
     "output_type": "stream",
     "text": [
      "15\n"
     ]
    }
   ],
   "source": [
    "test_books = {}\n",
    "for book_id, file_name, title in tqdm(test_infos):\n",
    "    FILE = TMP + PICKLE + '{}.pickle'.format(book_id)\n",
    "    if not os.path.exists(FILE):\n",
    "        try:\n",
    "            book = Book(book_id, title, file_name)\n",
    "            book.load()\n",
    "            book.windowed()\n",
    "            book.calc_happiness(calc_happiness)\n",
    "            test_books[int(book_id)] = book\n",
    "            with open(FILE, 'wb') as f:\n",
    "                pickle.dump(book, f)\n",
    "        except BookLoadingException as err:\n",
    "            pass\n",
    "            \n",
    "    else:\n",
    "        with open(FILE, 'rb') as f:\n",
    "            test_books[int(book_id)] = pickle.load(f)\n",
    "print(len(test_books))\n"
   ]
  },
  {
   "cell_type": "code",
   "execution_count": 22,
   "metadata": {},
   "outputs": [],
   "source": [
    "test_windows = []\n",
    "labels = []\n",
    "for book_id in test_books:\n",
    "    book = test_books[book_id]\n",
    "    window = get_max_window(book)[1:]\n",
    "    test_windows.append(window)\n",
    "    labels.append(book.title())\n",
    "test_dictionary = Dictionary(test_windows)\n",
    "test_dictionary.filter_extremes(no_below=NO_BELOW, no_above=NO_ABOVE)\n",
    "test_dictionary.filter_tokens(bad_ids=get_stop_words(test_dictionary.token2id))\n",
    "test_corpus = [test_dictionary.doc2bow(text) for text in test_windows]\n"
   ]
  },
  {
   "cell_type": "code",
   "execution_count": 23,
   "metadata": {},
   "outputs": [],
   "source": [
    "test_texts = []\n",
    "for doc in test_corpus:\n",
    "    text = []\n",
    "    for word in doc:\n",
    "        for i in range(int(word[1])):\n",
    "            text.append(test_dictionary[word[0]])\n",
    "    test_texts.append(text)\n"
   ]
  },
  {
   "cell_type": "code",
   "execution_count": 24,
   "metadata": {},
   "outputs": [],
   "source": [
    "for max_topic in range(3, NUM_TOPICS):\n",
    "    model = models[max_topic]\n",
    "    score_by_topic = defaultdict(int)\n",
    "    topic_array = [[0.0 for j in range(max_topic)] for i in range(len(labels))]\n",
    "    for index, unseen_doc in enumerate(test_corpus):\n",
    "        for topic, score in model[unseen_doc]:\n",
    "            topic_array[index][int(topic)] = float(score)\n",
    "    df = pd.DataFrame(topic_array)\n",
    "    df.to_excel(DIST + '{}.xlsx'.format(max_topic))\n"
   ]
  },
  {
   "cell_type": "markdown",
   "metadata": {},
   "source": [
    "## トピック数の決定\n"
   ]
  },
  {
   "cell_type": "markdown",
   "metadata": {},
   "source": [
    "### Perplexityによる評価\n"
   ]
  },
  {
   "cell_type": "code",
   "execution_count": 25,
   "metadata": {},
   "outputs": [],
   "source": [
    "perplexities = []\n",
    "for max_topic in range(3, NUM_TOPICS):\n",
    "    model = models[max_topic]\n",
    "    perwordbound = model.log_perplexity(corpus)\n",
    "    perplexities.append([max_topic, np.exp2(-perwordbound)])\n",
    "fprint_array(DIST + 'perplexity.txt', perplexities)\n"
   ]
  },
  {
   "cell_type": "markdown",
   "metadata": {},
   "source": [
    "### Coherenceによる評価\n"
   ]
  },
  {
   "cell_type": "code",
   "execution_count": 26,
   "metadata": {},
   "outputs": [],
   "source": [
    "coherences = []\n",
    "for num_topics in range(3, NUM_TOPICS):\n",
    "    model = models[num_topics]\n",
    "    cohsum = 0.0\n",
    "    for coherence in model.top_topics(corpus=test_corpus):\n",
    "        cohsum += coherence[1]\n",
    "    coherences.append([num_topics, cohsum / num_topics])\n",
    "fprint_array(DIST + 'coherences.txt', coherences)\n"
   ]
  },
  {
   "cell_type": "markdown",
   "metadata": {},
   "source": [
    "### KL Divergenceによる評価\n"
   ]
  },
  {
   "cell_type": "code",
   "execution_count": 27,
   "metadata": {},
   "outputs": [],
   "source": [
    "def kl(p_dict, q_dict):\n",
    "    distance = 0.0\n",
    "    for word in p_dict:\n",
    "        if word in q_dict:\n",
    "            distance += p_dict[word] * np.log(p_dict[word] / q_dict[word])\n",
    "    return distance\n"
   ]
  },
  {
   "cell_type": "code",
   "execution_count": 28,
   "metadata": {
    "scrolled": true
   },
   "outputs": [
    {
     "name": "stderr",
     "output_type": "stream",
     "text": [
      "100%|██████████████████████████████████████████████████████████████████████████████████████████████████████████████████████████████████████████████████████| 13/13 [00:00<00:00, 15.26it/s]\n"
     ]
    },
    {
     "name": "stdout",
     "output_type": "stream",
     "text": [
      "[0.0004319971364263135,\n",
      " 0.0013801887982178112,\n",
      " 0.001278307896336628,\n",
      " 0.0012814046759861716,\n",
      " 0.0011335761145498207,\n",
      " 0.0008645724102344891,\n",
      " 0.00166426352168673,\n",
      " 0.0012161281256238808,\n",
      " 0.001064799828057775,\n",
      " 0.001100857653334446,\n",
      " 0.00184971224331102,\n",
      " 0.0015084955619955847,\n",
      " 0.0015452706677825474]\n"
     ]
    }
   ],
   "source": [
    "kl_distances = []\n",
    "for num_topics in tqdm(range(3, NUM_TOPICS)):\n",
    "    model = models[num_topics]\n",
    "    pairs = get_pairs(range(num_topics))\n",
    "    distance = 0.0\n",
    "    for a, b in pairs:\n",
    "        p = {t[0]: t[1] for t in model.get_topic_terms(a)}\n",
    "        q = {t[0]: t[1] for t in model.get_topic_terms(b)}\n",
    "        pq = kl(p, q)\n",
    "        distance += pq\n",
    "    kl_distances.append(distance / len(pairs))\n",
    "pprint(kl_distances)\n"
   ]
  },
  {
   "cell_type": "markdown",
   "metadata": {},
   "source": [
    "### 各評価のグラフ\n"
   ]
  },
  {
   "cell_type": "code",
   "execution_count": 29,
   "metadata": {},
   "outputs": [
    {
     "data": {
      "image/png": "[encoded data removed]",
      "text/plain": [
       "<Figure size 864x576 with 3 Axes>"
      ]
     },
     "metadata": {},
     "output_type": "display_data"
    }
   ],
   "source": [
    "fig = plt.figure(figsize=(12, 8))\n",
    "ax1 = fig.add_subplot(2, 2, 1)\n",
    "ax2 = fig.add_subplot(2, 2, 2)\n",
    "ax3 = fig.add_subplot(2, 2, 3)\n",
    "\n",
    "ax1.plot(range(3, NUM_TOPICS), [a[1] for a in coherences], color='r')\n",
    "ax2.plot(range(3, NUM_TOPICS), [perplexity[1] for perplexity in perplexities], color='b')\n",
    "ax3.plot(range(3, NUM_TOPICS), kl_distances, color='g')\n",
    "\n",
    "ax1.set_title('Coherence', fontsize=16)\n",
    "ax2.set_title('Perplexity', fontsize=16)\n",
    "ax3.set_title('KL Divergence', fontsize=16)\n",
    "\n",
    "plt.savefig(DIST + 'result.png')\n",
    "plt.show()\n"
   ]
  },
  {
   "cell_type": "markdown",
   "metadata": {},
   "source": [
    "### トピック数3と6の関連する単語\n"
   ]
  },
  {
   "cell_type": "code",
   "execution_count": 39,
   "metadata": {},
   "outputs": [
    {
     "name": "stdout",
     "output_type": "stream",
     "text": [
      "[('god', 0.005583282), ('king', 0.0053586196), ('woman', 0.0046070702)]\n",
      "[('god', 0.004729804), ('king', 0.004404841), ('yes', 0.004316285)]\n",
      "[('god', 0.0063374974), ('mother', 0.0058836094), ('king', 0.0038535034)]\n"
     ]
    }
   ],
   "source": [
    "focus = 3\n",
    "a = []\n",
    "for i in range(focus):\n",
    "    words = models[focus].show_topic(i, topn=15)\n",
    "    pprint(models[focus].show_topic(i, topn=3))\n",
    "    a.append([i] + [word[0] for word in words])\n",
    "fprint_array(DIST + 'topics-{}.txt'.format(focus), a)\n"
   ]
  },
  {
   "cell_type": "code",
   "execution_count": 56,
   "metadata": {},
   "outputs": [
    {
     "name": "stdout",
     "output_type": "stream",
     "text": [
      "[('god', 0.008034038), ('mother', 0.0053110006), ('book', 0.004035949)]\n",
      "[('illustration', 0.007226116),\n",
      " ('art', 0.0052234903),\n",
      " ('beautiful', 0.004965368)]\n",
      "[('god', 0.0072035636), ('king', 0.006511788), ('lord', 0.004877853)]\n",
      "[('yes', 0.0049372227), ('king', 0.004714912), ('woman', 0.0039808713)]\n",
      "[('god', 0.005764181), ('lady', 0.004922521), ('woman', 0.004371312)]\n",
      "[('god', 0.0063135675), ('king', 0.0048625977), ('children', 0.004423443)]\n"
     ]
    }
   ],
   "source": [
    "focus = 6\n",
    "a = []\n",
    "for i in range(focus):\n",
    "    words = models[focus].show_topic(i, topn=15)\n",
    "    pprint(models[focus].show_topic(i, topn=3))\n",
    "    a.append([i] + [word[0] for word in words])\n",
    "fprint_array(DIST + 'topics-{}.txt'.format(focus), a)\n"
   ]
  },
  {
   "cell_type": "markdown",
   "metadata": {},
   "source": [
    "## クラスタリング\n"
   ]
  },
  {
   "cell_type": "markdown",
   "metadata": {},
   "source": [
    "### トピック数3によるクラスタリング\n"
   ]
  },
  {
   "cell_type": "code",
   "execution_count": 70,
   "metadata": {},
   "outputs": [
    {
     "name": "stdout",
     "output_type": "stream",
     "text": [
      "[array([0.06191329, 0.82548982, 0.11259687]),\n",
      " array([0.252689  , 0.39455572, 0.35275528]),\n",
      " array([0.03445907, 0.78608352, 0.1794574 ]),\n",
      " array([0.17334594, 0.54076028, 0.2858938 ]),\n",
      " array([0.44431102, 0.34084493, 0.21484402]),\n",
      " array([0.07146964, 0.51654589, 0.41198444]),\n",
      " array([0.4985742 , 0.38503104, 0.11639479]),\n",
      " array([0.42660749, 0.39792925, 0.17546329]),\n",
      " array([0.17809542, 0.72657382, 0.09533074]),\n",
      " array([0.15071425, 0.62590152, 0.22338426])]\n"
     ]
    }
   ],
   "source": [
    "df = pd.read_excel(DIST + '3.xlsx')\n",
    "array = [a[1:] for a in df.values]\n",
    "pprint(array[:10])\n"
   ]
  },
  {
   "cell_type": "code",
   "execution_count": 71,
   "metadata": {},
   "outputs": [
    {
     "name": "stdout",
     "output_type": "stream",
     "text": [
      "[array([0.07410941, 0.98810068, 0.134777  ]),\n",
      " array([0.43085483, 0.67274885, 0.60147578]),\n",
      " array([0.04269789, 0.97402833, 0.22236389]),\n",
      " array([0.27265434, 0.85055722, 0.44967991]),\n",
      " array([0.74078026, 0.56827578, 0.3582    ]),\n",
      " array([0.10754202, 0.77725852, 0.6199225 ]),\n",
      " array([0.77828825, 0.60104421, 0.18169551]),\n",
      " array([0.70027082, 0.65319585, 0.28802078]),\n",
      " array([0.23615939, 0.96345678, 0.12641117]),\n",
      " array([0.22116844, 0.91849089, 0.32780941])]\n"
     ]
    }
   ],
   "source": [
    "# arrayをベクトルごとに正規化する\n",
    "vectors = [a / np.linalg.norm(a) for a in array]\n",
    "pprint(vectors[:10])\n"
   ]
  },
  {
   "cell_type": "code",
   "execution_count": 72,
   "metadata": {},
   "outputs": [
    {
     "data": {
      "image/png": "[encoded data removed]",
      "text/plain": [
       "<Figure size 432x288 with 1 Axes>"
      ]
     },
     "metadata": {},
     "output_type": "display_data"
    }
   ],
   "source": [
    "Z = linkage(vectors, method='ward')\n",
    "dendrogram(Z, \n",
    "           labels=[a[2]for a in test_infos],\n",
    "           leaf_font_size=10.,\n",
    "           above_threshold_color='black', \n",
    "           orientation='left')\n",
    "plt.savefig(DIST + 'dendrogram-3.png')\n",
    "plt.show()\n"
   ]
  },
  {
   "cell_type": "code",
   "execution_count": 73,
   "metadata": {},
   "outputs": [
    {
     "name": "stdout",
     "output_type": "stream",
     "text": [
      "array([3, 3, 3, 3, 2, 3, 2, 2, 3, 3, 1, 1, 3, 3, 3], dtype=int32)\n"
     ]
    }
   ],
   "source": [
    "c = fcluster(Z, 0.7*max(Z[:,2]), criterion='distance')\n",
    "pprint(c)\n"
   ]
  },
  {
   "cell_type": "code",
   "execution_count": 74,
   "metadata": {},
   "outputs": [],
   "source": [
    "cls_map = {}\n",
    "for info, cls in zip(test_infos, c):\n",
    "    if cls not in cls_map:\n",
    "        cls_map[cls] = []\n",
    "    cls_map[cls].append(info[2])\n"
   ]
  },
  {
   "cell_type": "code",
   "execution_count": 75,
   "metadata": {},
   "outputs": [],
   "source": [
    "with open(DIST + 'topic-3.txt', 'w', encoding='utf-8') as f:\n",
    "    for cls in cls_map:\n",
    "        f.write('{}:\\n'.format(cls))\n",
    "        for title in cls_map[cls]:\n",
    "            f.write('\\t{}\\n'.format(title))\n"
   ]
  },
  {
   "cell_type": "markdown",
   "metadata": {},
   "source": [
    "### トピック数6によるクラスタリング\n"
   ]
  },
  {
   "cell_type": "code",
   "execution_count": 76,
   "metadata": {},
   "outputs": [
    {
     "data": {
      "image/png": "[encoded data removed]",
      "text/plain": [
       "<Figure size 432x288 with 1 Axes>"
      ]
     },
     "metadata": {},
     "output_type": "display_data"
    }
   ],
   "source": [
    "df = pd.read_excel(DIST + '6.xlsx')\n",
    "array = [a[1:] for a in df.values]\n",
    "\n",
    "# arrayをベクトルごとに正規化する\n",
    "vectors = [a / np.linalg.norm(a) for a in array]\n",
    "\n",
    "Z = linkage(vectors, method='ward')\n",
    "dendrogram(Z,\n",
    "           labels=[a[2]for a in test_infos],\n",
    "           leaf_font_size=10.,\n",
    "           above_threshold_color='black', \n",
    "           orientation='left')\n",
    "\n",
    "c = fcluster(Z, 0.7*max(Z[:,2]), criterion='distance')\n",
    "\n",
    "cls_map = {}\n",
    "for info, cls in zip(test_infos, c):\n",
    "    if cls not in cls_map:\n",
    "        cls_map[cls] = []\n",
    "    cls_map[cls].append(info[2])\n",
    "\n",
    "with open(DIST + 'topic-6.txt', 'w', encoding='utf-8') as f:\n",
    "    for cls in cls_map:\n",
    "        f.write('{}:\\n'.format(cls))\n",
    "        for title in cls_map[cls]:\n",
    "            f.write('\\t{}\\n'.format(title))\n",
    "plt.savefig(DIST + 'dendrogram-6.png')\n",
    "plt.show()\n"
   ]
  },
  {
   "cell_type": "code",
   "execution_count": null,
   "metadata": {},
   "outputs": [],
   "source": []
  },
  {
   "cell_type": "code",
   "execution_count": null,
   "metadata": {},
   "outputs": [],
   "source": []
  }
 ],
 "metadata": {
  "kernelspec": {
   "display_name": "Python 3",
   "language": "python",
   "name": "python3"
  },
  "language_info": {
   "codemirror_mode": {
    "name": "ipython",
    "version": 3
   },
   "file_extension": ".py",
   "mimetype": "text/x-python",
   "name": "python",
   "nbconvert_exporter": "python",
   "pygments_lexer": "ipython3",
   "version": "3.7.4"
  }
 },
 "nbformat": 4,
 "nbformat_minor": 1
}
