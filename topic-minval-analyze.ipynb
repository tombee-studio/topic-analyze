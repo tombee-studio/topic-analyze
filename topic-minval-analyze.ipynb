{
 "cells": [
  {
   "cell_type": "markdown",
   "metadata": {},
   "source": [
    "# トピック分析\n"
   ]
  },
  {
   "cell_type": "code",
   "execution_count": 2,
   "metadata": {},
   "outputs": [],
   "source": [
    "import os\n",
    "import nltk\n",
    "import pickle\n",
    "\n",
    "import pandas as pd\n",
    "import numpy as np\n",
    "import seaborn as sns\n",
    "import matplotlib.pyplot as plt\n",
    "\n",
    "from pprint import pprint\n",
    "from tqdm import tqdm\n",
    "from pyvis.network import Network\n",
    "from book import *\n",
    "from gensim.corpora.dictionary import Dictionary\n",
    "from gensim.models import LdaModel\n",
    "from gensim.models.ldamodel import CoherenceModel\n",
    "from labMTsimple.storyLab import *\n",
    "from nltk.corpus import stopwords\n",
    "from igraph import *\n",
    "from scipy.cluster.hierarchy import dendrogram, linkage, fcluster\n",
    "from wordcloud import WordCloud\n",
    "from collections import defaultdict\n"
   ]
  },
  {
   "cell_type": "code",
   "execution_count": 3,
   "metadata": {},
   "outputs": [
    {
     "name": "stderr",
     "output_type": "stream",
     "text": [
      "[nltk_data] Downloading package stopwords to\n",
      "[nltk_data]     C:\\Users\\tomoya\\AppData\\Roaming\\nltk_data...\n",
      "[nltk_data]   Package stopwords is already up-to-date!\n"
     ]
    },
    {
     "data": {
      "text/plain": [
       "True"
      ]
     },
     "execution_count": 3,
     "metadata": {},
     "output_type": "execute_result"
    }
   ],
   "source": [
    "nltk.download('stopwords')\n"
   ]
  },
  {
   "cell_type": "code",
   "execution_count": 4,
   "metadata": {},
   "outputs": [],
   "source": [
    "DATA = 'data/'\n",
    "DIST = 'dist/min/'\n",
    "TMP = 'tmp/min/'\n",
    "TEXT = 'text/'\n",
    "PICKLE = 'pickle/'\n",
    "MODEL = 'model/'\n",
    "\n",
    "SRC = 'sources.txt'\n",
    "TEST = 'sources-test.txt'\n",
    "MIN_TEXT = 'texts-min.txt'\n",
    "\n",
    "FILTER_TOKENS = ['\\'', 'mrs', 'mr']\n",
    "NUM_TOPICS = 16\n",
    "NO_BELOW = 3\n",
    "NO_ABOVE = 0.7\n"
   ]
  },
  {
   "cell_type": "code",
   "execution_count": 5,
   "metadata": {},
   "outputs": [],
   "source": [
    "sns.set(style='darkgrid')\n"
   ]
  },
  {
   "cell_type": "code",
   "execution_count": 6,
   "metadata": {},
   "outputs": [],
   "source": [
    "labMT, labMTvector, labMTwordlist = emotionFileReader(returnVector=True)\n"
   ]
  },
  {
   "cell_type": "code",
   "execution_count": 7,
   "metadata": {},
   "outputs": [],
   "source": [
    "def get_pairs(array):\n",
    "    pairs = []\n",
    "    for i, v1 in enumerate(array):\n",
    "        for j, v2 in enumerate(array):\n",
    "            if i != j:\n",
    "                pairs.append((v1, v2))\n",
    "    return pairs\n"
   ]
  },
  {
   "cell_type": "code",
   "execution_count": 8,
   "metadata": {},
   "outputs": [],
   "source": [
    "def load_array(file, delim=None, cnt=None):\n",
    "    with open(file, 'r', encoding=\"utf-8\") as f:\n",
    "        if cnt:\n",
    "            array = [[elem.strip() for elem in line.split(delim, cnt)]\n",
    "                      for line in f.readlines()]\n",
    "        else:\n",
    "            array =  [[elem.strip() for elem in line.split(delim)]\n",
    "                    for line in f.readlines()]\n",
    "    return array\n",
    "\n",
    "\n",
    "def fprint_array(file_name, array):\n",
    "    with open(file_name, 'w', encoding=\"utf-8\") as f:\n",
    "        for vector in array:\n",
    "            for elem in vector:\n",
    "                f.write('{:10} '.format(elem))\n",
    "            f.write('\\n')\n"
   ]
  },
  {
   "cell_type": "code",
   "execution_count": 9,
   "metadata": {},
   "outputs": [
    {
     "name": "stdout",
     "output_type": "stream",
     "text": [
      "[['12', '12-cleaned.txt', 'Through the Looking-Glass'],\n",
      " ['16', '16-cleaned.txt', 'Peter Pan'],\n",
      " ['20', '20-cleaned.txt', 'Paradise Lost'],\n",
      " ['21', '21-cleaned.txt', 'Aesop’s Fables'],\n",
      " ['24', '24-cleaned.txt', 'O Pioneers!'],\n",
      " ['32', '32-cleaned.txt', 'Herland'],\n",
      " ['36', '36-cleaned.txt', 'The War of the Worlds'],\n",
      " ['41', '41-cleaned.txt', 'The Legend of Sleepy Hollow'],\n",
      " ['47', '47-cleaned.txt', 'Anne Of Avonlea'],\n",
      " ['51', '51-cleaned.txt', 'Anne Of The Island']]\n"
     ]
    }
   ],
   "source": [
    "infos = load_array(DATA + SRC, ',', 2)\n",
    "pprint(infos[:10])\n"
   ]
  },
  {
   "cell_type": "code",
   "execution_count": 10,
   "metadata": {},
   "outputs": [],
   "source": [
    "def calc_happiness(window):\n",
    "    return emotion(window, labMT)\n"
   ]
  },
  {
   "cell_type": "code",
   "execution_count": 11,
   "metadata": {},
   "outputs": [
    {
     "name": "stderr",
     "output_type": "stream",
     "text": [
      "100%|██████████████████████████████████████████████████████████████████████████████████████████████████████████████████████████████████████████████████| 1244/1244 [00:55<00:00, 22.53it/s]\n"
     ]
    }
   ],
   "source": [
    "books = {}\n",
    "for book_id, file_name, title in tqdm(infos):\n",
    "    FILE = TMP + PICKLE + '{}.pickle'.format(book_id)\n",
    "    book = Book(book_id, title, file_name)\n",
    "    if not os.path.exists(FILE):\n",
    "        try:\n",
    "            book.load()\n",
    "            book.windowed()\n",
    "            book.calc_happiness(calc_happiness)\n",
    "            books[int(book_id)] = book\n",
    "            with open(FILE, 'wb') as f:\n",
    "                pickle.dump(book, f)\n",
    "        except BookLoadingException as err:\n",
    "            pass\n",
    "    else:\n",
    "        with open(FILE, 'rb') as f:\n",
    "            books[int(book_id)] = pickle.load(f)\n"
   ]
  },
  {
   "cell_type": "code",
   "execution_count": 12,
   "metadata": {},
   "outputs": [
    {
     "name": "stdout",
     "output_type": "stream",
     "text": [
      "1149\n"
     ]
    }
   ],
   "source": [
    "print(len(books))\n"
   ]
  },
  {
   "cell_type": "code",
   "execution_count": 13,
   "metadata": {},
   "outputs": [],
   "source": [
    "def get_min_window(book):\n",
    "    happinesses = book.happinesses()\n",
    "    i = happinesses.index(min(happinesses))\n",
    "    local_array = []\n",
    "    local_array.append(i)\n",
    "    for word in book.windows()[i].split():\n",
    "        local_array.append(word)\n",
    "    return local_array\n"
   ]
  },
  {
   "cell_type": "code",
   "execution_count": 14,
   "metadata": {},
   "outputs": [],
   "source": [
    "MIN_TEXT_PATH = TMP + MIN_TEXT\n",
    "if not os.path.exists(MIN_TEXT_PATH):\n",
    "    min_windows = [get_min_window(books[book_id]) for book_id in books]\n",
    "    fprint_array(MIN_TEXT_PATH, min_windows)\n",
    "else:\n",
    "    min_windows = load_array(MIN_TEXT_PATH)\n",
    "min_windows = [array[1:] for array in min_windows]\n"
   ]
  },
  {
   "cell_type": "code",
   "execution_count": 15,
   "metadata": {},
   "outputs": [
    {
     "name": "stdout",
     "output_type": "stream",
     "text": [
      "1159\n",
      "10000\n"
     ]
    }
   ],
   "source": [
    "print(len(min_windows))\n",
    "print(len(min_windows[0]))\n"
   ]
  },
  {
   "cell_type": "markdown",
   "metadata": {},
   "source": [
    "## モデルの構築\n"
   ]
  },
  {
   "cell_type": "code",
   "execution_count": 16,
   "metadata": {},
   "outputs": [],
   "source": [
    "stopset = set(stopwords.words('english'))\n"
   ]
  },
  {
   "cell_type": "code",
   "execution_count": 17,
   "metadata": {},
   "outputs": [],
   "source": [
    "def get_stop_words(dic):\n",
    "    return [dic[word] for word in dic if len(word) < 3 or word in stopset or \n",
    "            word not in labMT]\n"
   ]
  },
  {
   "cell_type": "code",
   "execution_count": 18,
   "metadata": {},
   "outputs": [],
   "source": [
    "DICTIONARY_PATH = TMP + 'dictionary.dict'\n",
    "if os.path.exists(DICTIONARY_PATH):\n",
    "    dictionary = Dictionary.load(DICTIONARY_PATH)\n",
    "else:\n",
    "    dictionary = Dictionary(min_windows)\n",
    "    dictionary.filter_extremes(no_below=NO_BELOW, no_above=NO_ABOVE)\n",
    "    dictionary.filter_tokens(bad_ids=get_stop_words(dictionary.token2id))\n",
    "    dictionary.save(DICTIONARY_PATH)\n"
   ]
  },
  {
   "cell_type": "code",
   "execution_count": 19,
   "metadata": {},
   "outputs": [],
   "source": [
    "corpus = [dictionary.doc2bow(text) for text in min_windows]\n"
   ]
  },
  {
   "cell_type": "code",
   "execution_count": 20,
   "metadata": {},
   "outputs": [
    {
     "name": "stderr",
     "output_type": "stream",
     "text": [
      "100%|██████████████████████████████████████████████████████████████████████████████████████████████████████████████████████████████████████████████████████| 14/14 [00:00<00:00, 18.78it/s]\n"
     ]
    }
   ],
   "source": [
    "MODEL_FOLDER = TMP + MODEL\n",
    "if not os.path.exists(MODEL_FOLDER):\n",
    "    os.makedirs(MODEL_FOLDER)\n",
    "\n",
    "models = {}\n",
    "\n",
    "for topic_num in tqdm(range(2, NUM_TOPICS)):\n",
    "    MODEL_PATH = MODEL_FOLDER + 'topic-{}.model'.format(topic_num)\n",
    "    if not os.path.exists(MODEL_PATH):\n",
    "        lda_model = LdaModel(corpus=corpus, num_topics=topic_num, id2word=dictionary)\n",
    "        lda_model.save(MODEL_PATH)\n",
    "    else:\n",
    "        lda_model = LdaModel.load(MODEL_PATH)\n",
    "    models[topic_num] = lda_model\n"
   ]
  },
  {
   "cell_type": "markdown",
   "metadata": {},
   "source": [
    "## テストデータで分析\n"
   ]
  },
  {
   "cell_type": "code",
   "execution_count": 21,
   "metadata": {},
   "outputs": [
    {
     "name": "stdout",
     "output_type": "stream",
     "text": [
      "[['37332', '37332-cleaned.txt', 'A Little Princess'],\n",
      " ['43', '43-cleaned.txt', 'The Strange Case Of Dr. Jekyll And Mr. Hyde'],\n",
      " ['11', '11-cleaned.txt', \"Alice's Adventures in Wonderland\"],\n",
      " ['98', '98-cleaned.txt', 'A Tale of Two Cities'],\n",
      " ['1974', '1974-cleaned.txt', 'Poetics'],\n",
      " ['45', '45-cleaned.txt', 'Anne of Green Gables'],\n",
      " ['119', '119-cleaned.txt', 'A Tramp Abroad'],\n",
      " ['205', '205-cleaned.txt', 'Walden, and On The Duty Of Civil Disobedience'],\n",
      " ['752', '752-cleaned.txt', 'A Young Girl’s Diary'],\n",
      " ['901', '901-cleaned.txt', 'The Jew of Malta']]\n"
     ]
    }
   ],
   "source": [
    "TEST_PATH = DATA + TEST\n",
    "test_infos = load_array(TEST_PATH, ',', 2)\n",
    "pprint(test_infos[:10])\n"
   ]
  },
  {
   "cell_type": "code",
   "execution_count": 22,
   "metadata": {},
   "outputs": [
    {
     "name": "stderr",
     "output_type": "stream",
     "text": [
      "100%|██████████████████████████████████████████████████████████████████████████████████████████████████████████████████████████████████████████████████████| 15/15 [00:00<00:00, 17.38it/s]\n"
     ]
    },
    {
     "name": "stdout",
     "output_type": "stream",
     "text": [
      "15\n"
     ]
    }
   ],
   "source": [
    "test_books = {}\n",
    "for book_id, file_name, title in tqdm(test_infos):\n",
    "    FILE = TMP + PICKLE + '{}.pickle'.format(book_id)\n",
    "    if not os.path.exists(FILE):\n",
    "        try:\n",
    "            book = Book(book_id, title, file_name)\n",
    "            book.load()\n",
    "            book.windowed()\n",
    "            book.calc_happiness(calc_happiness)\n",
    "            test_books[int(book_id)] = book\n",
    "            with open(FILE, 'wb') as f:\n",
    "                pickle.dump(book, f)\n",
    "        except BookLoadingException as err:\n",
    "            pass\n",
    "            \n",
    "    else:\n",
    "        with open(FILE, 'rb') as f:\n",
    "            test_books[int(book_id)] = pickle.load(f)\n",
    "print(len(test_books))\n"
   ]
  },
  {
   "cell_type": "code",
   "execution_count": 23,
   "metadata": {},
   "outputs": [],
   "source": [
    "test_windows = []\n",
    "labels = []\n",
    "for book_id in test_books:\n",
    "    book = test_books[book_id]\n",
    "    window = get_min_window(book)[1:]\n",
    "    test_windows.append(window)\n",
    "    labels.append(book.title())\n",
    "test_dictionary = Dictionary(test_windows)\n",
    "test_dictionary.filter_extremes(no_below=NO_BELOW, no_above=NO_ABOVE)\n",
    "test_dictionary.filter_tokens(bad_ids=get_stop_words(test_dictionary.token2id))\n",
    "test_corpus = [test_dictionary.doc2bow(text) for text in test_windows]\n"
   ]
  },
  {
   "cell_type": "code",
   "execution_count": 24,
   "metadata": {},
   "outputs": [],
   "source": [
    "test_texts = []\n",
    "for doc in test_corpus:\n",
    "    text = []\n",
    "    for word in doc:\n",
    "        for i in range(int(word[1])):\n",
    "            text.append(test_dictionary[word[0]])\n",
    "    test_texts.append(text)\n"
   ]
  },
  {
   "cell_type": "code",
   "execution_count": 25,
   "metadata": {},
   "outputs": [],
   "source": [
    "for max_topic in range(3, NUM_TOPICS):\n",
    "    model = models[max_topic]\n",
    "    score_by_topic = defaultdict(int)\n",
    "    topic_array = [[0.0 for j in range(max_topic)] for i in range(len(labels))]\n",
    "    for index, unseen_doc in enumerate(test_corpus):\n",
    "        for topic, score in model[unseen_doc]:\n",
    "            topic_array[index][int(topic)] = float(score)\n",
    "    df = pd.DataFrame(topic_array)\n",
    "    df.to_excel(DIST + '{}.xlsx'.format(max_topic))\n"
   ]
  },
  {
   "cell_type": "markdown",
   "metadata": {},
   "source": [
    "## トピック数の決定\n"
   ]
  },
  {
   "cell_type": "markdown",
   "metadata": {},
   "source": [
    "### Perplexityによる評価\n"
   ]
  },
  {
   "cell_type": "code",
   "execution_count": 26,
   "metadata": {},
   "outputs": [],
   "source": [
    "perplexities = []\n",
    "for max_topic in range(3, NUM_TOPICS):\n",
    "    model = models[max_topic]\n",
    "    perwordbound = model.log_perplexity(corpus)\n",
    "    perplexities.append([max_topic, np.exp2(-perwordbound)])\n",
    "fprint_array(DIST + 'perplexity.txt', perplexities)\n"
   ]
  },
  {
   "cell_type": "markdown",
   "metadata": {},
   "source": [
    "### Coherenceによる評価\n"
   ]
  },
  {
   "cell_type": "code",
   "execution_count": 27,
   "metadata": {},
   "outputs": [],
   "source": [
    "coherences = []\n",
    "for num_topics in range(3, NUM_TOPICS):\n",
    "    model = models[num_topics]\n",
    "    cohsum = 0.0\n",
    "    for coherence in model.top_topics(corpus=test_corpus):\n",
    "        cohsum += coherence[1]\n",
    "    coherences.append([num_topics, cohsum / num_topics])\n",
    "fprint_array(DIST + 'coherences.txt', coherences)\n"
   ]
  },
  {
   "cell_type": "markdown",
   "metadata": {},
   "source": [
    "### KL Divergenceによる評価\n"
   ]
  },
  {
   "cell_type": "code",
   "execution_count": 28,
   "metadata": {},
   "outputs": [],
   "source": [
    "def kl(p_dict, q_dict):\n",
    "    distance = 0.0\n",
    "    for word in p_dict:\n",
    "        if word in q_dict:\n",
    "            distance += p_dict[word] * np.log(p_dict[word] / q_dict[word])\n",
    "    return distance\n"
   ]
  },
  {
   "cell_type": "code",
   "execution_count": 29,
   "metadata": {
    "scrolled": true
   },
   "outputs": [
    {
     "name": "stderr",
     "output_type": "stream",
     "text": [
      "100%|██████████████████████████████████████████████████████████████████████████████████████████████████████████████████████████████████████████████████████| 13/13 [00:00<00:00, 28.34it/s]\n"
     ]
    },
    {
     "name": "stdout",
     "output_type": "stream",
     "text": [
      "[0.0010426320180461819,\n",
      " 0.0009625168219524008,\n",
      " 0.0011683437624014914,\n",
      " 0.0010344299680355106,\n",
      " 0.0010387186521689901,\n",
      " 0.0011750095884833303,\n",
      " 0.0013710606336366658,\n",
      " 0.0012278616431406894,\n",
      " 0.0015437051206990046,\n",
      " 0.0011047779844754284,\n",
      " 0.0014098621262638423,\n",
      " 0.0013855580713966248,\n",
      " 0.0013063305017973496]\n"
     ]
    }
   ],
   "source": [
    "kl_distances = []\n",
    "for num_topics in tqdm(range(3, NUM_TOPICS)):\n",
    "    model = models[num_topics]\n",
    "    pairs = get_pairs(range(num_topics))\n",
    "    distance = 0.0\n",
    "    for a, b in pairs:\n",
    "        p = {t[0]: t[1] for t in model.get_topic_terms(a)}\n",
    "        q = {t[0]: t[1] for t in model.get_topic_terms(b)}\n",
    "        pq = kl(p, q)\n",
    "        distance += pq\n",
    "    kl_distances.append(distance / len(pairs))\n",
    "pprint(kl_distances)\n"
   ]
  },
  {
   "cell_type": "markdown",
   "metadata": {},
   "source": [
    "### 各評価のグラフ\n"
   ]
  },
  {
   "cell_type": "code",
   "execution_count": 30,
   "metadata": {},
   "outputs": [
    {
     "data": {
      "image/png": "[encoded data removed]",
      "text/plain": [
       "<Figure size 864x576 with 3 Axes>"
      ]
     },
     "metadata": {},
     "output_type": "display_data"
    }
   ],
   "source": [
    "fig = plt.figure(figsize=(12, 8))\n",
    "ax1 = fig.add_subplot(2, 2, 1)\n",
    "ax2 = fig.add_subplot(2, 2, 2)\n",
    "ax3 = fig.add_subplot(2, 2, 3)\n",
    "\n",
    "ax1.plot(range(3, NUM_TOPICS), [a[1] for a in coherences], color='r')\n",
    "ax2.plot(range(3, NUM_TOPICS), [perplexity[1] for perplexity in perplexities], color='b')\n",
    "ax3.plot(range(3, NUM_TOPICS), kl_distances, color='g')\n",
    "\n",
    "ax1.set_title('Coherence', fontsize=16)\n",
    "ax2.set_title('Perplexity', fontsize=16)\n",
    "ax3.set_title('KL Divergence', fontsize=16)\n",
    "\n",
    "plt.savefig(DIST + 'result.png')\n",
    "plt.show()\n"
   ]
  },
  {
   "cell_type": "markdown",
   "metadata": {},
   "source": [
    "### トピック数4と11の関連する単語\n"
   ]
  },
  {
   "cell_type": "code",
   "execution_count": 31,
   "metadata": {},
   "outputs": [
    {
     "name": "stdout",
     "output_type": "stream",
     "text": [
      "[('king', 0.007447943), ('god', 0.0060737603), ('father', 0.005253976)]\n",
      "[('god', 0.005073689), ('woman', 0.004124617), ('king', 0.0039102035)]\n",
      "[('nature', 0.004934394), ('love', 0.004849532), ('god', 0.0043665203)]\n",
      "[('love', 0.005474302), ('god', 0.004148383), ('woman', 0.0037201762)]\n"
     ]
    }
   ],
   "source": [
    "focus = 4\n",
    "a = []\n",
    "for i in range(focus):\n",
    "    words = models[focus].show_topic(i, topn=15)\n",
    "    pprint(models[focus].show_topic(i, topn=3))\n",
    "    a.append([i] + [word[0] for word in words])\n",
    "fprint_array(DIST + 'topics-{}.txt'.format(focus), a)\n"
   ]
  },
  {
   "cell_type": "code",
   "execution_count": 32,
   "metadata": {},
   "outputs": [
    {
     "name": "stdout",
     "output_type": "stream",
     "text": [
      "[('god', 0.0073798867), ('yes', 0.0040406976), ('mother', 0.0040246733)]\n",
      "[('miss', 0.006556173), ('illustration', 0.0057739327), ('yes', 0.005472609)]\n",
      "[('king', 0.012741802), ('god', 0.005236742), ('war', 0.004630722)]\n",
      "[('love', 0.006933766), ('father', 0.005185605), ('mother', 0.0048810085)]\n",
      "[('king', 0.004682851), ('yes', 0.0038881742), ('love', 0.0037743992)]\n",
      "[('love', 0.004603712), ('father', 0.004436779), ('war', 0.003827168)]\n",
      "[('god', 0.0074738804), ('king', 0.0058161174), ('father', 0.0052085156)]\n",
      "[('god', 0.005787872), ('love', 0.0052993787), ('yes', 0.004449993)]\n",
      "[('love', 0.0052634287), ('woman', 0.004882324), ('illustration', 0.0040185577)]\n",
      "[('god', 0.0058460026), ('woman', 0.0049648923), ('king', 0.004938916)]\n",
      "[('yes', 0.0061846306), ('love', 0.004805655), ('war', 0.0038861735)]\n"
     ]
    }
   ],
   "source": [
    "focus = 11\n",
    "a = []\n",
    "for i in range(focus):\n",
    "    words = models[focus].show_topic(i, topn=15)\n",
    "    pprint(models[focus].show_topic(i, topn=3))\n",
    "    a.append([i] + [word[0] for word in words])\n",
    "fprint_array(DIST + 'topics-{}.txt'.format(focus), a)\n"
   ]
  },
  {
   "cell_type": "markdown",
   "metadata": {},
   "source": [
    "## クラスタリング\n"
   ]
  },
  {
   "cell_type": "markdown",
   "metadata": {},
   "source": [
    "### トピック数4によるクラスタリング\n"
   ]
  },
  {
   "cell_type": "code",
   "execution_count": 33,
   "metadata": {},
   "outputs": [
    {
     "name": "stdout",
     "output_type": "stream",
     "text": [
      "[array([0.11202957, 0.51322424, 0.07166604, 0.30308014]),\n",
      " array([0.13052814, 0.14020114, 0.27309239, 0.45617834]),\n",
      " array([0.2280961 , 0.20052752, 0.33537081, 0.23600554]),\n",
      " array([0.22681153, 0.2682485 , 0.15504307, 0.34989694]),\n",
      " array([0.21331912, 0.37207094, 0.16201288, 0.25259706]),\n",
      " array([0.09624927, 0.31056187, 0.19633244, 0.39685643]),\n",
      " array([0.08416138, 0.14578407, 0.42510691, 0.34494764]),\n",
      " array([0.23260385, 0.14693898, 0.17388527, 0.44657186]),\n",
      " array([0.32445487, 0.19715227, 0.17332473, 0.30506808]),\n",
      " array([0.38461298, 0.26889166, 0.22377256, 0.12272285])]\n"
     ]
    }
   ],
   "source": [
    "df = pd.read_excel(DIST + '4.xlsx')\n",
    "array = [a[1:] for a in df.values]\n",
    "pprint(array[:10])\n"
   ]
  },
  {
   "cell_type": "code",
   "execution_count": 34,
   "metadata": {},
   "outputs": [
    {
     "name": "stdout",
     "output_type": "stream",
     "text": [
      "[array([0.18344727, 0.8403994 , 0.1173524 , 0.4962906 ]),\n",
      " array([0.23097005, 0.24808646, 0.48323805, 0.80720935]),\n",
      " array([0.44697984, 0.39295612, 0.65719664, 0.46247928]),\n",
      " array([0.43660658, 0.51637172, 0.29845407, 0.67354295]),\n",
      " array([0.40752875, 0.71081111, 0.30951235, 0.48256604]),\n",
      " array([0.17521484, 0.56535544, 0.35740902, 0.72244846]),\n",
      " array([0.14694298, 0.25453415, 0.7422226 , 0.60226716]),\n",
      " array([0.42093221, 0.26590854, 0.31467197, 0.80814001]),\n",
      " array([0.62762045, 0.38136828, 0.33527667, 0.59011893]),\n",
      " array([0.71998532, 0.50335808, 0.4188963 , 0.22973393])]\n"
     ]
    }
   ],
   "source": [
    "# arrayをベクトルごとに正規化する\n",
    "vectors = [a / np.linalg.norm(a) for a in array]\n",
    "pprint(vectors[:10])\n"
   ]
  },
  {
   "cell_type": "code",
   "execution_count": 35,
   "metadata": {},
   "outputs": [
    {
     "data": {
      "image/png": "[encoded data removed]",
      "text/plain": [
       "<Figure size 432x288 with 1 Axes>"
      ]
     },
     "metadata": {},
     "output_type": "display_data"
    }
   ],
   "source": [
    "Z = linkage(vectors, method='ward')\n",
    "dendrogram(Z, \n",
    "           labels=[a[2]for a in test_infos],\n",
    "           leaf_font_size=10.,\n",
    "           above_threshold_color='black', \n",
    "           orientation='left')\n",
    "plt.savefig(DIST + 'dendrogram-4.png')\n",
    "plt.show()\n"
   ]
  },
  {
   "cell_type": "code",
   "execution_count": 36,
   "metadata": {},
   "outputs": [
    {
     "name": "stdout",
     "output_type": "stream",
     "text": [
      "array([4, 1, 3, 4, 4, 4, 3, 1, 4, 2, 1, 3, 1, 2, 1], dtype=int32)\n"
     ]
    }
   ],
   "source": [
    "c = fcluster(Z, 0.7*max(Z[:,2]), criterion='distance')\n",
    "pprint(c)\n"
   ]
  },
  {
   "cell_type": "code",
   "execution_count": 37,
   "metadata": {},
   "outputs": [],
   "source": [
    "cls_map = {}\n",
    "for info, cls in zip(test_infos, c):\n",
    "    if cls not in cls_map:\n",
    "        cls_map[cls] = []\n",
    "    cls_map[cls].append(info[2])\n"
   ]
  },
  {
   "cell_type": "code",
   "execution_count": 38,
   "metadata": {},
   "outputs": [],
   "source": [
    "with open(DIST + 'topic-4.txt', 'w', encoding='utf-8') as f:\n",
    "    for cls in cls_map:\n",
    "        f.write('{}:\\n'.format(cls))\n",
    "        for title in cls_map[cls]:\n",
    "            f.write('\\t{}\\n'.format(title))\n"
   ]
  },
  {
   "cell_type": "markdown",
   "metadata": {},
   "source": [
    "### トピック数11によるクラスタリング\n"
   ]
  },
  {
   "cell_type": "code",
   "execution_count": 39,
   "metadata": {},
   "outputs": [
    {
     "data": {
      "image/png": "[encoded data removed]",
      "text/plain": [
       "<Figure size 432x288 with 1 Axes>"
      ]
     },
     "metadata": {},
     "output_type": "display_data"
    }
   ],
   "source": [
    "df = pd.read_excel(DIST + '11.xlsx')\n",
    "array = [a[1:] for a in df.values]\n",
    "\n",
    "# arrayをベクトルごとに正規化する\n",
    "vectors = [a / np.linalg.norm(a) for a in array]\n",
    "\n",
    "Z = linkage(vectors, method='ward')\n",
    "dendrogram(Z,\n",
    "           labels=[a[2]for a in test_infos],\n",
    "           leaf_font_size=10.,\n",
    "           above_threshold_color='black', \n",
    "           orientation='left')\n",
    "\n",
    "c = fcluster(Z, 0.7*max(Z[:,2]), criterion='distance')\n",
    "\n",
    "cls_map = {}\n",
    "for info, cls in zip(test_infos, c):\n",
    "    if cls not in cls_map:\n",
    "        cls_map[cls] = []\n",
    "    cls_map[cls].append(info[2])\n",
    "\n",
    "with open(DIST + 'topic-11.txt', 'w', encoding='utf-8') as f:\n",
    "    for cls in cls_map:\n",
    "        f.write('{}:\\n'.format(cls))\n",
    "        for title in cls_map[cls]:\n",
    "            f.write('\\t{}\\n'.format(title))\n",
    "plt.savefig(DIST + 'dendrogram-11.png')\n",
    "plt.show()\n"
   ]
  },
  {
   "cell_type": "markdown",
   "metadata": {},
   "source": [
    "## Word Cloudによる可視化\n"
   ]
  },
  {
   "cell_type": "code",
   "execution_count": null,
   "metadata": {},
   "outputs": [],
   "source": []
  }
 ],
 "metadata": {
  "kernelspec": {
   "display_name": "Python 3",
   "language": "python",
   "name": "python3"
  },
  "language_info": {
   "codemirror_mode": {
    "name": "ipython",
    "version": 3
   },
   "file_extension": ".py",
   "mimetype": "text/x-python",
   "name": "python",
   "nbconvert_exporter": "python",
   "pygments_lexer": "ipython3",
   "version": "3.7.4"
  }
 },
 "nbformat": 4,
 "nbformat_minor": 1
}
